{
  "nbformat": 4,
  "nbformat_minor": 0,
  "metadata": {
    "colab": {
      "name": "MLBuySell.ipynb",
      "provenance": [],
      "collapsed_sections": []
    },
    "kernelspec": {
      "name": "python3",
      "display_name": "Python 3"
    },
    "language_info": {
      "name": "python"
    }
  },
  "cells": [
    {
      "cell_type": "markdown",
      "metadata": {
        "id": "9pTgEGwtinwI"
      },
      "source": [
        "## LIB"
      ]
    },
    {
      "cell_type": "code",
      "metadata": {
        "id": "thoTEM8-Odi3"
      },
      "source": [
        "!pip install yahoo_fin\n",
        "import yahoo_fin.stock_info as si"
      ],
      "execution_count": null,
      "outputs": []
    },
    {
      "cell_type": "code",
      "metadata": {
        "id": "dnd3B5G7IY0V"
      },
      "source": [
        "import pandas as pd\n",
        "import numpy as np\n",
        "from sklearn.model_selection import train_test_split\n",
        "import matplotlib.pyplot as plt\n",
        "import tensorflow as tf\n",
        "from tensorflow.keras.models import Sequential\n",
        "from tensorflow.keras.layers import Dense, Activation, Dropout, LSTM\n",
        "from tensorflow.keras.callbacks import EarlyStopping\n",
        "from tensorflow.keras.optimizers import Adam\n",
        "from sklearn.metrics import classification_report,multilabel_confusion_matrix, plot_confusion_matrix, accuracy_score\n",
        "from tensorflow import keras\n",
        "from datetime import datetime, timedelta\n",
        "from sklearn.preprocessing import OneHotEncoder"
      ],
      "execution_count": 2,
      "outputs": []
    },
    {
      "cell_type": "markdown",
      "source": [
        "# MAIN DATA"
      ],
      "metadata": {
        "id": "nh3MCqdsKNRQ"
      }
    },
    {
      "cell_type": "code",
      "source": [
        "from google.colab import drive\n",
        "drive.mount('/content/drive')"
      ],
      "metadata": {
        "colab": {
          "base_uri": "https://localhost:8080/"
        },
        "id": "NqQr3HwMIed8",
        "outputId": "377643d2-8330-4e07-c629-102762d6d621"
      },
      "execution_count": 4,
      "outputs": [
        {
          "output_type": "stream",
          "name": "stdout",
          "text": [
            "Mounted at /content/drive\n"
          ]
        }
      ]
    },
    {
      "cell_type": "code",
      "metadata": {
        "id": "jvjh5hEnItf3"
      },
      "source": [
        "df = pd.read_excel(\"/content/drive/MyDrive/StockML/sample_data.xlsx\", sheet_name = \"Sheet1\")"
      ],
      "execution_count": 5,
      "outputs": []
    },
    {
      "cell_type": "code",
      "metadata": {
        "id": "OSv2nBMmO6-L"
      },
      "source": [
        "df['date'] = pd.to_datetime(df['date'], format='%Y-%m-%d')"
      ],
      "execution_count": 6,
      "outputs": []
    },
    {
      "cell_type": "code",
      "metadata": {
        "id": "Q_vU621EbOzi"
      },
      "source": [
        "df['MONTH'] = df['date'] .dt.month"
      ],
      "execution_count": 7,
      "outputs": []
    },
    {
      "cell_type": "markdown",
      "source": [
        "MAX30, MIN30, MEAN7, and STD7 used can improve the model accuracy, based on experimentation."
      ],
      "metadata": {
        "id": "edYYRrneL84j"
      }
    },
    {
      "cell_type": "code",
      "source": [
        "df['MAX30'] = df[['H-30', 'H-29', 'H-28', 'H-27', 'H-26', 'H-25',\n",
        "       'H-24', 'H-23', 'H-22', 'H-21', 'H-20', 'H-19', 'H-18', 'H-17', 'H-16',\n",
        "       'H-15', 'H-14', 'H-13', 'H-12', 'H-11', 'H-10', 'H-9', 'H-8', 'H-7',\n",
        "       'H-6', 'H-5', 'H-4', 'H-3', 'H-2', 'H-1']].max(axis=1)"
      ],
      "metadata": {
        "id": "fHBHH9Nfmy_E"
      },
      "execution_count": 8,
      "outputs": []
    },
    {
      "cell_type": "code",
      "source": [
        "df['MIN30'] = df[['H-30', 'H-29', 'H-28', 'H-27', 'H-26', 'H-25',\n",
        "       'H-24', 'H-23', 'H-22', 'H-21', 'H-20', 'H-19', 'H-18', 'H-17', 'H-16',\n",
        "       'H-15', 'H-14', 'H-13', 'H-12', 'H-11', 'H-10', 'H-9', 'H-8', 'H-7',\n",
        "       'H-6', 'H-5', 'H-4', 'H-3', 'H-2', 'H-1']].min(axis=1)"
      ],
      "metadata": {
        "id": "O2I1YkSfmzXQ"
      },
      "execution_count": 9,
      "outputs": []
    },
    {
      "cell_type": "code",
      "metadata": {
        "id": "aSe0KZ6hRseS"
      },
      "source": [
        "df['MEAN7'] = df[['H-7', 'H-6', 'H-5', 'H-4', 'H-3', 'H-2', 'H-1']].mean(axis=1)"
      ],
      "execution_count": 10,
      "outputs": []
    },
    {
      "cell_type": "code",
      "source": [
        "df['STD7'] = df[['H-7', 'H-6', 'H-5', 'H-4', 'H-3', 'H-2', 'H-1']].std(axis=1)"
      ],
      "metadata": {
        "id": "KdWGDoKUeyzr"
      },
      "execution_count": 11,
      "outputs": []
    },
    {
      "cell_type": "markdown",
      "source": [
        "The label consist of BUY, SELL, and NOTHING. NOTHING means its either buy or sell signal."
      ],
      "metadata": {
        "id": "aAG9JTjuJCJB"
      }
    },
    {
      "cell_type": "code",
      "source": [
        "df[\"BUY\"].sum()"
      ],
      "metadata": {
        "colab": {
          "base_uri": "https://localhost:8080/"
        },
        "id": "9h9PPc5vSyfH",
        "outputId": "b324c551-3604-463e-8de4-9351eb1109f1"
      },
      "execution_count": 12,
      "outputs": [
        {
          "output_type": "execute_result",
          "data": {
            "text/plain": [
              "1587"
            ]
          },
          "metadata": {},
          "execution_count": 12
        }
      ]
    },
    {
      "cell_type": "code",
      "source": [
        "df[\"SELL\"].sum()"
      ],
      "metadata": {
        "colab": {
          "base_uri": "https://localhost:8080/"
        },
        "id": "r8MzunfYS4S1",
        "outputId": "b4052d11-b943-4a11-ec5a-377790f77e8a"
      },
      "execution_count": 13,
      "outputs": [
        {
          "output_type": "execute_result",
          "data": {
            "text/plain": [
              "2564"
            ]
          },
          "metadata": {},
          "execution_count": 13
        }
      ]
    },
    {
      "cell_type": "code",
      "source": [
        "df[\"NOTHING\"].sum()"
      ],
      "metadata": {
        "colab": {
          "base_uri": "https://localhost:8080/"
        },
        "id": "RVejoX4pS4m_",
        "outputId": "9cf694a3-dfa2-4e0b-9025-d7831306fc68"
      },
      "execution_count": 14,
      "outputs": [
        {
          "output_type": "execute_result",
          "data": {
            "text/plain": [
              "5848"
            ]
          },
          "metadata": {},
          "execution_count": 14
        }
      ]
    },
    {
      "cell_type": "code",
      "source": [
        "df.shape"
      ],
      "metadata": {
        "colab": {
          "base_uri": "https://localhost:8080/"
        },
        "id": "ir4E8wyP_Rx6",
        "outputId": "5429fbcd-7a81-4af5-a87f-ad4376ffc13f"
      },
      "execution_count": 15,
      "outputs": [
        {
          "output_type": "execute_result",
          "data": {
            "text/plain": [
              "(9999, 41)"
            ]
          },
          "metadata": {},
          "execution_count": 15
        }
      ]
    },
    {
      "cell_type": "code",
      "metadata": {
        "colab": {
          "base_uri": "https://localhost:8080/",
          "height": 374
        },
        "id": "4Z24Mc1WI9zs",
        "outputId": "5579a341-08e6-40fa-b8c7-0ddcc2095cab"
      },
      "source": [
        "df.head()"
      ],
      "execution_count": 16,
      "outputs": [
        {
          "output_type": "execute_result",
          "data": {
            "text/html": [
              "\n",
              "  <div id=\"df-bb8a81dd-a126-4113-b6da-c0f6fcabbdd4\">\n",
              "    <div class=\"colab-df-container\">\n",
              "      <div>\n",
              "<style scoped>\n",
              "    .dataframe tbody tr th:only-of-type {\n",
              "        vertical-align: middle;\n",
              "    }\n",
              "\n",
              "    .dataframe tbody tr th {\n",
              "        vertical-align: top;\n",
              "    }\n",
              "\n",
              "    .dataframe thead th {\n",
              "        text-align: right;\n",
              "    }\n",
              "</style>\n",
              "<table border=\"1\" class=\"dataframe\">\n",
              "  <thead>\n",
              "    <tr style=\"text-align: right;\">\n",
              "      <th></th>\n",
              "      <th>code</th>\n",
              "      <th>date</th>\n",
              "      <th>H-31</th>\n",
              "      <th>H-30</th>\n",
              "      <th>H-29</th>\n",
              "      <th>H-28</th>\n",
              "      <th>H-27</th>\n",
              "      <th>H-26</th>\n",
              "      <th>H-25</th>\n",
              "      <th>H-24</th>\n",
              "      <th>H-23</th>\n",
              "      <th>H-22</th>\n",
              "      <th>H-21</th>\n",
              "      <th>H-20</th>\n",
              "      <th>H-19</th>\n",
              "      <th>H-18</th>\n",
              "      <th>H-17</th>\n",
              "      <th>H-16</th>\n",
              "      <th>H-15</th>\n",
              "      <th>H-14</th>\n",
              "      <th>H-13</th>\n",
              "      <th>H-12</th>\n",
              "      <th>H-11</th>\n",
              "      <th>H-10</th>\n",
              "      <th>H-9</th>\n",
              "      <th>H-8</th>\n",
              "      <th>H-7</th>\n",
              "      <th>H-6</th>\n",
              "      <th>H-5</th>\n",
              "      <th>H-4</th>\n",
              "      <th>H-3</th>\n",
              "      <th>H-2</th>\n",
              "      <th>H-1</th>\n",
              "      <th>BUY</th>\n",
              "      <th>SELL</th>\n",
              "      <th>NOTHING</th>\n",
              "      <th>MONTH</th>\n",
              "      <th>MAX30</th>\n",
              "      <th>MIN30</th>\n",
              "      <th>MEAN7</th>\n",
              "      <th>STD7</th>\n",
              "    </tr>\n",
              "  </thead>\n",
              "  <tbody>\n",
              "    <tr>\n",
              "      <th>0</th>\n",
              "      <td>INCO.JK</td>\n",
              "      <td>2021-12-30</td>\n",
              "      <td>0</td>\n",
              "      <td>0.02542</td>\n",
              "      <td>0.00620</td>\n",
              "      <td>0.00205</td>\n",
              "      <td>-0.00205</td>\n",
              "      <td>0.01232</td>\n",
              "      <td>-0.03245</td>\n",
              "      <td>-0.00419</td>\n",
              "      <td>0.00842</td>\n",
              "      <td>-0.02088</td>\n",
              "      <td>0.02132</td>\n",
              "      <td>-0.00626</td>\n",
              "      <td>-0.00210</td>\n",
              "      <td>0.00632</td>\n",
              "      <td>-0.00837</td>\n",
              "      <td>0.01266</td>\n",
              "      <td>-0.00625</td>\n",
              "      <td>-0.01258</td>\n",
              "      <td>0.00000</td>\n",
              "      <td>-0.01274</td>\n",
              "      <td>-0.00860</td>\n",
              "      <td>0.01085</td>\n",
              "      <td>-0.00858</td>\n",
              "      <td>0.00000</td>\n",
              "      <td>-0.02381</td>\n",
              "      <td>0.00443</td>\n",
              "      <td>0.03532</td>\n",
              "      <td>0.00000</td>\n",
              "      <td>0.00426</td>\n",
              "      <td>-0.01274</td>\n",
              "      <td>0.00645</td>\n",
              "      <td>0</td>\n",
              "      <td>0</td>\n",
              "      <td>1</td>\n",
              "      <td>12</td>\n",
              "      <td>0.03532</td>\n",
              "      <td>-0.03245</td>\n",
              "      <td>0.001987</td>\n",
              "      <td>0.018387</td>\n",
              "    </tr>\n",
              "    <tr>\n",
              "      <th>1</th>\n",
              "      <td>WOMF.JK</td>\n",
              "      <td>2021-12-30</td>\n",
              "      <td>0</td>\n",
              "      <td>0.00000</td>\n",
              "      <td>0.00000</td>\n",
              "      <td>-0.00840</td>\n",
              "      <td>0.02542</td>\n",
              "      <td>-0.01653</td>\n",
              "      <td>0.00000</td>\n",
              "      <td>-0.01681</td>\n",
              "      <td>0.00000</td>\n",
              "      <td>0.00000</td>\n",
              "      <td>0.00000</td>\n",
              "      <td>0.01709</td>\n",
              "      <td>-0.01681</td>\n",
              "      <td>0.00000</td>\n",
              "      <td>0.01709</td>\n",
              "      <td>0.00000</td>\n",
              "      <td>0.02521</td>\n",
              "      <td>0.01639</td>\n",
              "      <td>-0.00806</td>\n",
              "      <td>0.02439</td>\n",
              "      <td>-0.02381</td>\n",
              "      <td>-0.01626</td>\n",
              "      <td>-0.00826</td>\n",
              "      <td>-0.00833</td>\n",
              "      <td>0.00840</td>\n",
              "      <td>0.00000</td>\n",
              "      <td>0.01667</td>\n",
              "      <td>0.02459</td>\n",
              "      <td>-0.03200</td>\n",
              "      <td>0.00000</td>\n",
              "      <td>0.01653</td>\n",
              "      <td>0</td>\n",
              "      <td>0</td>\n",
              "      <td>1</td>\n",
              "      <td>12</td>\n",
              "      <td>0.02542</td>\n",
              "      <td>-0.03200</td>\n",
              "      <td>0.004884</td>\n",
              "      <td>0.018634</td>\n",
              "    </tr>\n",
              "    <tr>\n",
              "      <th>2</th>\n",
              "      <td>PWON.JK</td>\n",
              "      <td>2020-03-12</td>\n",
              "      <td>0</td>\n",
              "      <td>-0.01835</td>\n",
              "      <td>-0.02804</td>\n",
              "      <td>-0.01923</td>\n",
              "      <td>0.02941</td>\n",
              "      <td>0.00000</td>\n",
              "      <td>0.01905</td>\n",
              "      <td>0.00000</td>\n",
              "      <td>-0.00935</td>\n",
              "      <td>0.00943</td>\n",
              "      <td>0.00000</td>\n",
              "      <td>0.00935</td>\n",
              "      <td>0.02778</td>\n",
              "      <td>0.03604</td>\n",
              "      <td>0.04348</td>\n",
              "      <td>-0.00833</td>\n",
              "      <td>-0.02521</td>\n",
              "      <td>-0.00862</td>\n",
              "      <td>-0.06087</td>\n",
              "      <td>0.02778</td>\n",
              "      <td>-0.00901</td>\n",
              "      <td>-0.01818</td>\n",
              "      <td>-0.01852</td>\n",
              "      <td>-0.00943</td>\n",
              "      <td>0.03810</td>\n",
              "      <td>0.02752</td>\n",
              "      <td>-0.02679</td>\n",
              "      <td>-0.02752</td>\n",
              "      <td>-0.05660</td>\n",
              "      <td>-0.00400</td>\n",
              "      <td>-0.09639</td>\n",
              "      <td>1</td>\n",
              "      <td>0</td>\n",
              "      <td>0</td>\n",
              "      <td>3</td>\n",
              "      <td>0.04348</td>\n",
              "      <td>-0.09639</td>\n",
              "      <td>-0.020811</td>\n",
              "      <td>0.046838</td>\n",
              "    </tr>\n",
              "    <tr>\n",
              "      <th>3</th>\n",
              "      <td>PWON.JK</td>\n",
              "      <td>2020-03-17</td>\n",
              "      <td>0</td>\n",
              "      <td>0.02941</td>\n",
              "      <td>0.00000</td>\n",
              "      <td>0.01905</td>\n",
              "      <td>0.00000</td>\n",
              "      <td>-0.00935</td>\n",
              "      <td>0.00943</td>\n",
              "      <td>0.00000</td>\n",
              "      <td>0.00935</td>\n",
              "      <td>0.02778</td>\n",
              "      <td>0.03604</td>\n",
              "      <td>0.04348</td>\n",
              "      <td>-0.00833</td>\n",
              "      <td>-0.02521</td>\n",
              "      <td>-0.00862</td>\n",
              "      <td>-0.06087</td>\n",
              "      <td>0.02778</td>\n",
              "      <td>-0.00901</td>\n",
              "      <td>-0.01818</td>\n",
              "      <td>-0.01852</td>\n",
              "      <td>-0.00943</td>\n",
              "      <td>0.03810</td>\n",
              "      <td>0.02752</td>\n",
              "      <td>-0.02679</td>\n",
              "      <td>-0.02752</td>\n",
              "      <td>-0.05660</td>\n",
              "      <td>-0.00400</td>\n",
              "      <td>-0.09639</td>\n",
              "      <td>-0.08444</td>\n",
              "      <td>0.00000</td>\n",
              "      <td>0.00000</td>\n",
              "      <td>1</td>\n",
              "      <td>0</td>\n",
              "      <td>0</td>\n",
              "      <td>3</td>\n",
              "      <td>0.04348</td>\n",
              "      <td>-0.09639</td>\n",
              "      <td>-0.038421</td>\n",
              "      <td>0.040957</td>\n",
              "    </tr>\n",
              "    <tr>\n",
              "      <th>4</th>\n",
              "      <td>PWON.JK</td>\n",
              "      <td>2020-03-18</td>\n",
              "      <td>0</td>\n",
              "      <td>0.00000</td>\n",
              "      <td>0.01905</td>\n",
              "      <td>0.00000</td>\n",
              "      <td>-0.00935</td>\n",
              "      <td>0.00943</td>\n",
              "      <td>0.00000</td>\n",
              "      <td>0.00935</td>\n",
              "      <td>0.02778</td>\n",
              "      <td>0.03604</td>\n",
              "      <td>0.04348</td>\n",
              "      <td>-0.00833</td>\n",
              "      <td>-0.02521</td>\n",
              "      <td>-0.00862</td>\n",
              "      <td>-0.06087</td>\n",
              "      <td>0.02778</td>\n",
              "      <td>-0.00901</td>\n",
              "      <td>-0.01818</td>\n",
              "      <td>-0.01852</td>\n",
              "      <td>-0.00943</td>\n",
              "      <td>0.03810</td>\n",
              "      <td>0.02752</td>\n",
              "      <td>-0.02679</td>\n",
              "      <td>-0.02752</td>\n",
              "      <td>-0.05660</td>\n",
              "      <td>-0.00400</td>\n",
              "      <td>-0.09639</td>\n",
              "      <td>-0.08444</td>\n",
              "      <td>0.00000</td>\n",
              "      <td>0.00000</td>\n",
              "      <td>-0.16505</td>\n",
              "      <td>1</td>\n",
              "      <td>0</td>\n",
              "      <td>0</td>\n",
              "      <td>3</td>\n",
              "      <td>0.04348</td>\n",
              "      <td>-0.16505</td>\n",
              "      <td>-0.058069</td>\n",
              "      <td>0.062288</td>\n",
              "    </tr>\n",
              "  </tbody>\n",
              "</table>\n",
              "</div>\n",
              "      <button class=\"colab-df-convert\" onclick=\"convertToInteractive('df-bb8a81dd-a126-4113-b6da-c0f6fcabbdd4')\"\n",
              "              title=\"Convert this dataframe to an interactive table.\"\n",
              "              style=\"display:none;\">\n",
              "        \n",
              "  <svg xmlns=\"http://www.w3.org/2000/svg\" height=\"24px\"viewBox=\"0 0 24 24\"\n",
              "       width=\"24px\">\n",
              "    <path d=\"M0 0h24v24H0V0z\" fill=\"none\"/>\n",
              "    <path d=\"M18.56 5.44l.94 2.06.94-2.06 2.06-.94-2.06-.94-.94-2.06-.94 2.06-2.06.94zm-11 1L8.5 8.5l.94-2.06 2.06-.94-2.06-.94L8.5 2.5l-.94 2.06-2.06.94zm10 10l.94 2.06.94-2.06 2.06-.94-2.06-.94-.94-2.06-.94 2.06-2.06.94z\"/><path d=\"M17.41 7.96l-1.37-1.37c-.4-.4-.92-.59-1.43-.59-.52 0-1.04.2-1.43.59L10.3 9.45l-7.72 7.72c-.78.78-.78 2.05 0 2.83L4 21.41c.39.39.9.59 1.41.59.51 0 1.02-.2 1.41-.59l7.78-7.78 2.81-2.81c.8-.78.8-2.07 0-2.86zM5.41 20L4 18.59l7.72-7.72 1.47 1.35L5.41 20z\"/>\n",
              "  </svg>\n",
              "      </button>\n",
              "      \n",
              "  <style>\n",
              "    .colab-df-container {\n",
              "      display:flex;\n",
              "      flex-wrap:wrap;\n",
              "      gap: 12px;\n",
              "    }\n",
              "\n",
              "    .colab-df-convert {\n",
              "      background-color: #E8F0FE;\n",
              "      border: none;\n",
              "      border-radius: 50%;\n",
              "      cursor: pointer;\n",
              "      display: none;\n",
              "      fill: #1967D2;\n",
              "      height: 32px;\n",
              "      padding: 0 0 0 0;\n",
              "      width: 32px;\n",
              "    }\n",
              "\n",
              "    .colab-df-convert:hover {\n",
              "      background-color: #E2EBFA;\n",
              "      box-shadow: 0px 1px 2px rgba(60, 64, 67, 0.3), 0px 1px 3px 1px rgba(60, 64, 67, 0.15);\n",
              "      fill: #174EA6;\n",
              "    }\n",
              "\n",
              "    [theme=dark] .colab-df-convert {\n",
              "      background-color: #3B4455;\n",
              "      fill: #D2E3FC;\n",
              "    }\n",
              "\n",
              "    [theme=dark] .colab-df-convert:hover {\n",
              "      background-color: #434B5C;\n",
              "      box-shadow: 0px 1px 3px 1px rgba(0, 0, 0, 0.15);\n",
              "      filter: drop-shadow(0px 1px 2px rgba(0, 0, 0, 0.3));\n",
              "      fill: #FFFFFF;\n",
              "    }\n",
              "  </style>\n",
              "\n",
              "      <script>\n",
              "        const buttonEl =\n",
              "          document.querySelector('#df-bb8a81dd-a126-4113-b6da-c0f6fcabbdd4 button.colab-df-convert');\n",
              "        buttonEl.style.display =\n",
              "          google.colab.kernel.accessAllowed ? 'block' : 'none';\n",
              "\n",
              "        async function convertToInteractive(key) {\n",
              "          const element = document.querySelector('#df-bb8a81dd-a126-4113-b6da-c0f6fcabbdd4');\n",
              "          const dataTable =\n",
              "            await google.colab.kernel.invokeFunction('convertToInteractive',\n",
              "                                                     [key], {});\n",
              "          if (!dataTable) return;\n",
              "\n",
              "          const docLinkHtml = 'Like what you see? Visit the ' +\n",
              "            '<a target=\"_blank\" href=https://colab.research.google.com/notebooks/data_table.ipynb>data table notebook</a>'\n",
              "            + ' to learn more about interactive tables.';\n",
              "          element.innerHTML = '';\n",
              "          dataTable['output_type'] = 'display_data';\n",
              "          await google.colab.output.renderOutput(dataTable, element);\n",
              "          const docLink = document.createElement('div');\n",
              "          docLink.innerHTML = docLinkHtml;\n",
              "          element.appendChild(docLink);\n",
              "        }\n",
              "      </script>\n",
              "    </div>\n",
              "  </div>\n",
              "  "
            ],
            "text/plain": [
              "      code       date  H-31     H-30  ...    MAX30    MIN30     MEAN7      STD7\n",
              "0  INCO.JK 2021-12-30     0  0.02542  ...  0.03532 -0.03245  0.001987  0.018387\n",
              "1  WOMF.JK 2021-12-30     0  0.00000  ...  0.02542 -0.03200  0.004884  0.018634\n",
              "2  PWON.JK 2020-03-12     0 -0.01835  ...  0.04348 -0.09639 -0.020811  0.046838\n",
              "3  PWON.JK 2020-03-17     0  0.02941  ...  0.04348 -0.09639 -0.038421  0.040957\n",
              "4  PWON.JK 2020-03-18     0  0.00000  ...  0.04348 -0.16505 -0.058069  0.062288\n",
              "\n",
              "[5 rows x 41 columns]"
            ]
          },
          "metadata": {},
          "execution_count": 16
        }
      ]
    },
    {
      "cell_type": "markdown",
      "source": [
        "# SECTOR DATA"
      ],
      "metadata": {
        "id": "AISkVS63KFRt"
      }
    },
    {
      "cell_type": "code",
      "source": [
        "df_sector = pd.read_excel(\"/content/drive/MyDrive/StockML/sector_detail.xlsx\")\n",
        "col_name = df_sector['sector'].unique().copy()\n",
        "col_name.sort()"
      ],
      "metadata": {
        "id": "mJIIRBCfKRaZ"
      },
      "execution_count": 18,
      "outputs": []
    },
    {
      "cell_type": "code",
      "source": [
        "# col_name"
      ],
      "metadata": {
        "id": "sj0d3TmlPA1-"
      },
      "execution_count": 19,
      "outputs": []
    },
    {
      "cell_type": "code",
      "source": [
        "enc = OneHotEncoder()\n",
        "enc.fit(df_sector[['sector']])\n",
        "df_encode_sector = enc.transform(df_sector[['sector']]).toarray()\n",
        "df_encode_sector = pd.DataFrame(df_encode_sector, columns=col_name)\n",
        "df_sector = df_sector.drop(['sector','industry'],axis=1)\n",
        "df_sector = pd.concat([df_sector, df_encode_sector], axis=1, ignore_index=True)\n",
        "df_sector.columns = ['code']+col_name.tolist()"
      ],
      "metadata": {
        "id": "8YbG468DK-_H"
      },
      "execution_count": 20,
      "outputs": []
    },
    {
      "cell_type": "code",
      "source": [
        "df_sector.shape"
      ],
      "metadata": {
        "colab": {
          "base_uri": "https://localhost:8080/"
        },
        "id": "WCfIBE10XV6C",
        "outputId": "75cdd2dd-84f3-4890-e514-57493b067c42"
      },
      "execution_count": 21,
      "outputs": [
        {
          "output_type": "execute_result",
          "data": {
            "text/plain": [
              "(87, 12)"
            ]
          },
          "metadata": {},
          "execution_count": 21
        }
      ]
    },
    {
      "cell_type": "code",
      "source": [
        "df = pd.merge(df, df_sector, how=\"left\", on=[\"code\"])"
      ],
      "metadata": {
        "id": "u9BNetaaScBO"
      },
      "execution_count": 22,
      "outputs": []
    },
    {
      "cell_type": "code",
      "source": [
        "df.shape"
      ],
      "metadata": {
        "colab": {
          "base_uri": "https://localhost:8080/"
        },
        "id": "XWCgVE8BTUxf",
        "outputId": "daf66159-4af8-4423-d618-562ba085d952"
      },
      "execution_count": 23,
      "outputs": [
        {
          "output_type": "execute_result",
          "data": {
            "text/plain": [
              "(9999, 52)"
            ]
          },
          "metadata": {},
          "execution_count": 23
        }
      ]
    },
    {
      "cell_type": "markdown",
      "metadata": {
        "id": "Psl15OY6iiUB"
      },
      "source": [
        "# DF FINAL"
      ]
    },
    {
      "cell_type": "markdown",
      "source": [
        "Drop the code, date, and H-31 column because we didn't need it."
      ],
      "metadata": {
        "id": "L3yFxWLdHJEL"
      }
    },
    {
      "cell_type": "code",
      "metadata": {
        "id": "_8g28kkybMlD"
      },
      "source": [
        "df = df.drop([\"code\",\"date\",\"H-31\"], axis = 1)"
      ],
      "execution_count": 24,
      "outputs": []
    },
    {
      "cell_type": "code",
      "metadata": {
        "id": "d3MNoJnnaU1O"
      },
      "source": [
        "df = df.dropna(axis = 0)"
      ],
      "execution_count": 25,
      "outputs": []
    },
    {
      "cell_type": "code",
      "source": [
        "df.head()"
      ],
      "metadata": {
        "colab": {
          "base_uri": "https://localhost:8080/",
          "height": 287
        },
        "id": "Yk9RR1q3NQi-",
        "outputId": "33db5c96-9c4d-4fa6-e232-65c93c02352e"
      },
      "execution_count": 26,
      "outputs": [
        {
          "output_type": "execute_result",
          "data": {
            "text/html": [
              "\n",
              "  <div id=\"df-413a0678-88ae-4b1c-a714-9612be4d57e0\">\n",
              "    <div class=\"colab-df-container\">\n",
              "      <div>\n",
              "<style scoped>\n",
              "    .dataframe tbody tr th:only-of-type {\n",
              "        vertical-align: middle;\n",
              "    }\n",
              "\n",
              "    .dataframe tbody tr th {\n",
              "        vertical-align: top;\n",
              "    }\n",
              "\n",
              "    .dataframe thead th {\n",
              "        text-align: right;\n",
              "    }\n",
              "</style>\n",
              "<table border=\"1\" class=\"dataframe\">\n",
              "  <thead>\n",
              "    <tr style=\"text-align: right;\">\n",
              "      <th></th>\n",
              "      <th>H-30</th>\n",
              "      <th>H-29</th>\n",
              "      <th>H-28</th>\n",
              "      <th>H-27</th>\n",
              "      <th>H-26</th>\n",
              "      <th>H-25</th>\n",
              "      <th>H-24</th>\n",
              "      <th>H-23</th>\n",
              "      <th>H-22</th>\n",
              "      <th>H-21</th>\n",
              "      <th>H-20</th>\n",
              "      <th>H-19</th>\n",
              "      <th>H-18</th>\n",
              "      <th>H-17</th>\n",
              "      <th>H-16</th>\n",
              "      <th>H-15</th>\n",
              "      <th>H-14</th>\n",
              "      <th>H-13</th>\n",
              "      <th>H-12</th>\n",
              "      <th>H-11</th>\n",
              "      <th>H-10</th>\n",
              "      <th>H-9</th>\n",
              "      <th>H-8</th>\n",
              "      <th>H-7</th>\n",
              "      <th>H-6</th>\n",
              "      <th>H-5</th>\n",
              "      <th>H-4</th>\n",
              "      <th>H-3</th>\n",
              "      <th>H-2</th>\n",
              "      <th>H-1</th>\n",
              "      <th>BUY</th>\n",
              "      <th>SELL</th>\n",
              "      <th>NOTHING</th>\n",
              "      <th>MONTH</th>\n",
              "      <th>MAX30</th>\n",
              "      <th>MIN30</th>\n",
              "      <th>MEAN7</th>\n",
              "      <th>STD7</th>\n",
              "      <th>Basic Materials</th>\n",
              "      <th>Communication Services</th>\n",
              "      <th>Consumer Cyclical</th>\n",
              "      <th>Consumer Defensive</th>\n",
              "      <th>Energy</th>\n",
              "      <th>Financial Services</th>\n",
              "      <th>Healthcare</th>\n",
              "      <th>Industrials</th>\n",
              "      <th>Real Estate</th>\n",
              "      <th>Technology</th>\n",
              "      <th>Utilities</th>\n",
              "    </tr>\n",
              "  </thead>\n",
              "  <tbody>\n",
              "    <tr>\n",
              "      <th>0</th>\n",
              "      <td>0.02542</td>\n",
              "      <td>0.00620</td>\n",
              "      <td>0.00205</td>\n",
              "      <td>-0.00205</td>\n",
              "      <td>0.01232</td>\n",
              "      <td>-0.03245</td>\n",
              "      <td>-0.00419</td>\n",
              "      <td>0.00842</td>\n",
              "      <td>-0.02088</td>\n",
              "      <td>0.02132</td>\n",
              "      <td>-0.00626</td>\n",
              "      <td>-0.00210</td>\n",
              "      <td>0.00632</td>\n",
              "      <td>-0.00837</td>\n",
              "      <td>0.01266</td>\n",
              "      <td>-0.00625</td>\n",
              "      <td>-0.01258</td>\n",
              "      <td>0.00000</td>\n",
              "      <td>-0.01274</td>\n",
              "      <td>-0.00860</td>\n",
              "      <td>0.01085</td>\n",
              "      <td>-0.00858</td>\n",
              "      <td>0.00000</td>\n",
              "      <td>-0.02381</td>\n",
              "      <td>0.00443</td>\n",
              "      <td>0.03532</td>\n",
              "      <td>0.00000</td>\n",
              "      <td>0.00426</td>\n",
              "      <td>-0.01274</td>\n",
              "      <td>0.00645</td>\n",
              "      <td>0</td>\n",
              "      <td>0</td>\n",
              "      <td>1</td>\n",
              "      <td>12</td>\n",
              "      <td>0.03532</td>\n",
              "      <td>-0.03245</td>\n",
              "      <td>0.001987</td>\n",
              "      <td>0.018387</td>\n",
              "      <td>1.0</td>\n",
              "      <td>0.0</td>\n",
              "      <td>0.0</td>\n",
              "      <td>0.0</td>\n",
              "      <td>0.0</td>\n",
              "      <td>0.0</td>\n",
              "      <td>0.0</td>\n",
              "      <td>0.0</td>\n",
              "      <td>0.0</td>\n",
              "      <td>0.0</td>\n",
              "      <td>0.0</td>\n",
              "    </tr>\n",
              "    <tr>\n",
              "      <th>1</th>\n",
              "      <td>0.00000</td>\n",
              "      <td>0.00000</td>\n",
              "      <td>-0.00840</td>\n",
              "      <td>0.02542</td>\n",
              "      <td>-0.01653</td>\n",
              "      <td>0.00000</td>\n",
              "      <td>-0.01681</td>\n",
              "      <td>0.00000</td>\n",
              "      <td>0.00000</td>\n",
              "      <td>0.00000</td>\n",
              "      <td>0.01709</td>\n",
              "      <td>-0.01681</td>\n",
              "      <td>0.00000</td>\n",
              "      <td>0.01709</td>\n",
              "      <td>0.00000</td>\n",
              "      <td>0.02521</td>\n",
              "      <td>0.01639</td>\n",
              "      <td>-0.00806</td>\n",
              "      <td>0.02439</td>\n",
              "      <td>-0.02381</td>\n",
              "      <td>-0.01626</td>\n",
              "      <td>-0.00826</td>\n",
              "      <td>-0.00833</td>\n",
              "      <td>0.00840</td>\n",
              "      <td>0.00000</td>\n",
              "      <td>0.01667</td>\n",
              "      <td>0.02459</td>\n",
              "      <td>-0.03200</td>\n",
              "      <td>0.00000</td>\n",
              "      <td>0.01653</td>\n",
              "      <td>0</td>\n",
              "      <td>0</td>\n",
              "      <td>1</td>\n",
              "      <td>12</td>\n",
              "      <td>0.02542</td>\n",
              "      <td>-0.03200</td>\n",
              "      <td>0.004884</td>\n",
              "      <td>0.018634</td>\n",
              "      <td>0.0</td>\n",
              "      <td>0.0</td>\n",
              "      <td>0.0</td>\n",
              "      <td>0.0</td>\n",
              "      <td>0.0</td>\n",
              "      <td>1.0</td>\n",
              "      <td>0.0</td>\n",
              "      <td>0.0</td>\n",
              "      <td>0.0</td>\n",
              "      <td>0.0</td>\n",
              "      <td>0.0</td>\n",
              "    </tr>\n",
              "    <tr>\n",
              "      <th>2</th>\n",
              "      <td>-0.01835</td>\n",
              "      <td>-0.02804</td>\n",
              "      <td>-0.01923</td>\n",
              "      <td>0.02941</td>\n",
              "      <td>0.00000</td>\n",
              "      <td>0.01905</td>\n",
              "      <td>0.00000</td>\n",
              "      <td>-0.00935</td>\n",
              "      <td>0.00943</td>\n",
              "      <td>0.00000</td>\n",
              "      <td>0.00935</td>\n",
              "      <td>0.02778</td>\n",
              "      <td>0.03604</td>\n",
              "      <td>0.04348</td>\n",
              "      <td>-0.00833</td>\n",
              "      <td>-0.02521</td>\n",
              "      <td>-0.00862</td>\n",
              "      <td>-0.06087</td>\n",
              "      <td>0.02778</td>\n",
              "      <td>-0.00901</td>\n",
              "      <td>-0.01818</td>\n",
              "      <td>-0.01852</td>\n",
              "      <td>-0.00943</td>\n",
              "      <td>0.03810</td>\n",
              "      <td>0.02752</td>\n",
              "      <td>-0.02679</td>\n",
              "      <td>-0.02752</td>\n",
              "      <td>-0.05660</td>\n",
              "      <td>-0.00400</td>\n",
              "      <td>-0.09639</td>\n",
              "      <td>1</td>\n",
              "      <td>0</td>\n",
              "      <td>0</td>\n",
              "      <td>3</td>\n",
              "      <td>0.04348</td>\n",
              "      <td>-0.09639</td>\n",
              "      <td>-0.020811</td>\n",
              "      <td>0.046838</td>\n",
              "      <td>0.0</td>\n",
              "      <td>0.0</td>\n",
              "      <td>0.0</td>\n",
              "      <td>0.0</td>\n",
              "      <td>0.0</td>\n",
              "      <td>0.0</td>\n",
              "      <td>0.0</td>\n",
              "      <td>0.0</td>\n",
              "      <td>1.0</td>\n",
              "      <td>0.0</td>\n",
              "      <td>0.0</td>\n",
              "    </tr>\n",
              "    <tr>\n",
              "      <th>3</th>\n",
              "      <td>0.02941</td>\n",
              "      <td>0.00000</td>\n",
              "      <td>0.01905</td>\n",
              "      <td>0.00000</td>\n",
              "      <td>-0.00935</td>\n",
              "      <td>0.00943</td>\n",
              "      <td>0.00000</td>\n",
              "      <td>0.00935</td>\n",
              "      <td>0.02778</td>\n",
              "      <td>0.03604</td>\n",
              "      <td>0.04348</td>\n",
              "      <td>-0.00833</td>\n",
              "      <td>-0.02521</td>\n",
              "      <td>-0.00862</td>\n",
              "      <td>-0.06087</td>\n",
              "      <td>0.02778</td>\n",
              "      <td>-0.00901</td>\n",
              "      <td>-0.01818</td>\n",
              "      <td>-0.01852</td>\n",
              "      <td>-0.00943</td>\n",
              "      <td>0.03810</td>\n",
              "      <td>0.02752</td>\n",
              "      <td>-0.02679</td>\n",
              "      <td>-0.02752</td>\n",
              "      <td>-0.05660</td>\n",
              "      <td>-0.00400</td>\n",
              "      <td>-0.09639</td>\n",
              "      <td>-0.08444</td>\n",
              "      <td>0.00000</td>\n",
              "      <td>0.00000</td>\n",
              "      <td>1</td>\n",
              "      <td>0</td>\n",
              "      <td>0</td>\n",
              "      <td>3</td>\n",
              "      <td>0.04348</td>\n",
              "      <td>-0.09639</td>\n",
              "      <td>-0.038421</td>\n",
              "      <td>0.040957</td>\n",
              "      <td>0.0</td>\n",
              "      <td>0.0</td>\n",
              "      <td>0.0</td>\n",
              "      <td>0.0</td>\n",
              "      <td>0.0</td>\n",
              "      <td>0.0</td>\n",
              "      <td>0.0</td>\n",
              "      <td>0.0</td>\n",
              "      <td>1.0</td>\n",
              "      <td>0.0</td>\n",
              "      <td>0.0</td>\n",
              "    </tr>\n",
              "    <tr>\n",
              "      <th>4</th>\n",
              "      <td>0.00000</td>\n",
              "      <td>0.01905</td>\n",
              "      <td>0.00000</td>\n",
              "      <td>-0.00935</td>\n",
              "      <td>0.00943</td>\n",
              "      <td>0.00000</td>\n",
              "      <td>0.00935</td>\n",
              "      <td>0.02778</td>\n",
              "      <td>0.03604</td>\n",
              "      <td>0.04348</td>\n",
              "      <td>-0.00833</td>\n",
              "      <td>-0.02521</td>\n",
              "      <td>-0.00862</td>\n",
              "      <td>-0.06087</td>\n",
              "      <td>0.02778</td>\n",
              "      <td>-0.00901</td>\n",
              "      <td>-0.01818</td>\n",
              "      <td>-0.01852</td>\n",
              "      <td>-0.00943</td>\n",
              "      <td>0.03810</td>\n",
              "      <td>0.02752</td>\n",
              "      <td>-0.02679</td>\n",
              "      <td>-0.02752</td>\n",
              "      <td>-0.05660</td>\n",
              "      <td>-0.00400</td>\n",
              "      <td>-0.09639</td>\n",
              "      <td>-0.08444</td>\n",
              "      <td>0.00000</td>\n",
              "      <td>0.00000</td>\n",
              "      <td>-0.16505</td>\n",
              "      <td>1</td>\n",
              "      <td>0</td>\n",
              "      <td>0</td>\n",
              "      <td>3</td>\n",
              "      <td>0.04348</td>\n",
              "      <td>-0.16505</td>\n",
              "      <td>-0.058069</td>\n",
              "      <td>0.062288</td>\n",
              "      <td>0.0</td>\n",
              "      <td>0.0</td>\n",
              "      <td>0.0</td>\n",
              "      <td>0.0</td>\n",
              "      <td>0.0</td>\n",
              "      <td>0.0</td>\n",
              "      <td>0.0</td>\n",
              "      <td>0.0</td>\n",
              "      <td>1.0</td>\n",
              "      <td>0.0</td>\n",
              "      <td>0.0</td>\n",
              "    </tr>\n",
              "  </tbody>\n",
              "</table>\n",
              "</div>\n",
              "      <button class=\"colab-df-convert\" onclick=\"convertToInteractive('df-413a0678-88ae-4b1c-a714-9612be4d57e0')\"\n",
              "              title=\"Convert this dataframe to an interactive table.\"\n",
              "              style=\"display:none;\">\n",
              "        \n",
              "  <svg xmlns=\"http://www.w3.org/2000/svg\" height=\"24px\"viewBox=\"0 0 24 24\"\n",
              "       width=\"24px\">\n",
              "    <path d=\"M0 0h24v24H0V0z\" fill=\"none\"/>\n",
              "    <path d=\"M18.56 5.44l.94 2.06.94-2.06 2.06-.94-2.06-.94-.94-2.06-.94 2.06-2.06.94zm-11 1L8.5 8.5l.94-2.06 2.06-.94-2.06-.94L8.5 2.5l-.94 2.06-2.06.94zm10 10l.94 2.06.94-2.06 2.06-.94-2.06-.94-.94-2.06-.94 2.06-2.06.94z\"/><path d=\"M17.41 7.96l-1.37-1.37c-.4-.4-.92-.59-1.43-.59-.52 0-1.04.2-1.43.59L10.3 9.45l-7.72 7.72c-.78.78-.78 2.05 0 2.83L4 21.41c.39.39.9.59 1.41.59.51 0 1.02-.2 1.41-.59l7.78-7.78 2.81-2.81c.8-.78.8-2.07 0-2.86zM5.41 20L4 18.59l7.72-7.72 1.47 1.35L5.41 20z\"/>\n",
              "  </svg>\n",
              "      </button>\n",
              "      \n",
              "  <style>\n",
              "    .colab-df-container {\n",
              "      display:flex;\n",
              "      flex-wrap:wrap;\n",
              "      gap: 12px;\n",
              "    }\n",
              "\n",
              "    .colab-df-convert {\n",
              "      background-color: #E8F0FE;\n",
              "      border: none;\n",
              "      border-radius: 50%;\n",
              "      cursor: pointer;\n",
              "      display: none;\n",
              "      fill: #1967D2;\n",
              "      height: 32px;\n",
              "      padding: 0 0 0 0;\n",
              "      width: 32px;\n",
              "    }\n",
              "\n",
              "    .colab-df-convert:hover {\n",
              "      background-color: #E2EBFA;\n",
              "      box-shadow: 0px 1px 2px rgba(60, 64, 67, 0.3), 0px 1px 3px 1px rgba(60, 64, 67, 0.15);\n",
              "      fill: #174EA6;\n",
              "    }\n",
              "\n",
              "    [theme=dark] .colab-df-convert {\n",
              "      background-color: #3B4455;\n",
              "      fill: #D2E3FC;\n",
              "    }\n",
              "\n",
              "    [theme=dark] .colab-df-convert:hover {\n",
              "      background-color: #434B5C;\n",
              "      box-shadow: 0px 1px 3px 1px rgba(0, 0, 0, 0.15);\n",
              "      filter: drop-shadow(0px 1px 2px rgba(0, 0, 0, 0.3));\n",
              "      fill: #FFFFFF;\n",
              "    }\n",
              "  </style>\n",
              "\n",
              "      <script>\n",
              "        const buttonEl =\n",
              "          document.querySelector('#df-413a0678-88ae-4b1c-a714-9612be4d57e0 button.colab-df-convert');\n",
              "        buttonEl.style.display =\n",
              "          google.colab.kernel.accessAllowed ? 'block' : 'none';\n",
              "\n",
              "        async function convertToInteractive(key) {\n",
              "          const element = document.querySelector('#df-413a0678-88ae-4b1c-a714-9612be4d57e0');\n",
              "          const dataTable =\n",
              "            await google.colab.kernel.invokeFunction('convertToInteractive',\n",
              "                                                     [key], {});\n",
              "          if (!dataTable) return;\n",
              "\n",
              "          const docLinkHtml = 'Like what you see? Visit the ' +\n",
              "            '<a target=\"_blank\" href=https://colab.research.google.com/notebooks/data_table.ipynb>data table notebook</a>'\n",
              "            + ' to learn more about interactive tables.';\n",
              "          element.innerHTML = '';\n",
              "          dataTable['output_type'] = 'display_data';\n",
              "          await google.colab.output.renderOutput(dataTable, element);\n",
              "          const docLink = document.createElement('div');\n",
              "          docLink.innerHTML = docLinkHtml;\n",
              "          element.appendChild(docLink);\n",
              "        }\n",
              "      </script>\n",
              "    </div>\n",
              "  </div>\n",
              "  "
            ],
            "text/plain": [
              "      H-30     H-29     H-28  ...  Real Estate  Technology  Utilities\n",
              "0  0.02542  0.00620  0.00205  ...          0.0         0.0        0.0\n",
              "1  0.00000  0.00000 -0.00840  ...          0.0         0.0        0.0\n",
              "2 -0.01835 -0.02804 -0.01923  ...          1.0         0.0        0.0\n",
              "3  0.02941  0.00000  0.01905  ...          1.0         0.0        0.0\n",
              "4  0.00000  0.01905  0.00000  ...          1.0         0.0        0.0\n",
              "\n",
              "[5 rows x 49 columns]"
            ]
          },
          "metadata": {},
          "execution_count": 26
        }
      ]
    },
    {
      "cell_type": "markdown",
      "metadata": {
        "id": "oTnnoPWMZqCB"
      },
      "source": [
        "# VISUALIZATION"
      ]
    },
    {
      "cell_type": "code",
      "metadata": {
        "colab": {
          "base_uri": "https://localhost:8080/",
          "height": 297
        },
        "id": "NOe3hVD7FNky",
        "outputId": "b3af0d63-e466-46d1-f0f9-4376940143cc"
      },
      "source": [
        "df[df[\"BUY\"]==1].groupby(\"MONTH\").count()[\"BUY\"].plot()"
      ],
      "execution_count": 27,
      "outputs": [
        {
          "output_type": "execute_result",
          "data": {
            "text/plain": [
              "<matplotlib.axes._subplots.AxesSubplot at 0x7ff232062550>"
            ]
          },
          "metadata": {},
          "execution_count": 27
        },
        {
          "output_type": "display_data",
          "data": {
            "image/png": "[encoded data removed]",
            "text/plain": [
              "<Figure size 432x288 with 1 Axes>"
            ]
          },
          "metadata": {
            "needs_background": "light"
          }
        }
      ]
    },
    {
      "cell_type": "code",
      "metadata": {
        "colab": {
          "base_uri": "https://localhost:8080/",
          "height": 297
        },
        "id": "pgWems_CGhR-",
        "outputId": "e1bac23c-fd99-469d-8366-020d75d5845d"
      },
      "source": [
        "df[df[\"SELL\"]==1].groupby(\"MONTH\").count()[\"SELL\"].plot()"
      ],
      "execution_count": 28,
      "outputs": [
        {
          "output_type": "execute_result",
          "data": {
            "text/plain": [
              "<matplotlib.axes._subplots.AxesSubplot at 0x7ff2331e1590>"
            ]
          },
          "metadata": {},
          "execution_count": 28
        },
        {
          "output_type": "display_data",
          "data": {
            "image/png": "[encoded data removed]",
            "text/plain": [
              "<Figure size 432x288 with 1 Axes>"
            ]
          },
          "metadata": {
            "needs_background": "light"
          }
        }
      ]
    },
    {
      "cell_type": "code",
      "metadata": {
        "id": "hVNHIvynGnVC",
        "colab": {
          "base_uri": "https://localhost:8080/",
          "height": 297
        },
        "outputId": "bcf545b0-c1aa-4c23-daf8-63eb1a1437d0"
      },
      "source": [
        "df[df[\"NOTHING\"]==1].groupby(\"MONTH\").count()[\"BUY\"].plot()"
      ],
      "execution_count": 29,
      "outputs": [
        {
          "output_type": "execute_result",
          "data": {
            "text/plain": [
              "<matplotlib.axes._subplots.AxesSubplot at 0x7ff232157550>"
            ]
          },
          "metadata": {},
          "execution_count": 29
        },
        {
          "output_type": "display_data",
          "data": {
            "image/png": "[encoded data removed]",
            "text/plain": [
              "<Figure size 432x288 with 1 Axes>"
            ]
          },
          "metadata": {
            "needs_background": "light"
          }
        }
      ]
    },
    {
      "cell_type": "markdown",
      "metadata": {
        "id": "vZmHTZ2PZ5D5"
      },
      "source": [
        "# DATA PREPARATION"
      ]
    },
    {
      "cell_type": "code",
      "metadata": {
        "id": "yMzIcrctJKNr"
      },
      "source": [
        "X = df.drop(['BUY','SELL','NOTHING'],axis=1).values\n",
        "y = df[['BUY','SELL','NOTHING']].values"
      ],
      "execution_count": 30,
      "outputs": []
    },
    {
      "cell_type": "code",
      "metadata": {
        "id": "ziAyXDYyJY5G"
      },
      "source": [
        "X_train, X_test, y_train, y_test = train_test_split(X,y,test_size=0.20,random_state=333)"
      ],
      "execution_count": 31,
      "outputs": []
    },
    {
      "cell_type": "code",
      "metadata": {
        "colab": {
          "base_uri": "https://localhost:8080/"
        },
        "id": "IBwaScfKJlLD",
        "outputId": "548d24ab-4f16-474e-a603-19c1836e1ea8"
      },
      "source": [
        "X_train.shape"
      ],
      "execution_count": 32,
      "outputs": [
        {
          "output_type": "execute_result",
          "data": {
            "text/plain": [
              "(7999, 46)"
            ]
          },
          "metadata": {},
          "execution_count": 32
        }
      ]
    },
    {
      "cell_type": "markdown",
      "source": [
        "# MODEL"
      ],
      "metadata": {
        "id": "l1SVGHH_4Cek"
      }
    },
    {
      "cell_type": "markdown",
      "source": [
        "Not sure why using GELU activation, but it seems better than ReLU. Need more research for this. Some source that might be interesting: https://paperswithcode.com/method/gelu https://medium.com/@shoray.goel/gelu-gaussian-error-linear-unit-4ec59fb2e47c"
      ],
      "metadata": {
        "id": "ro1K9qfXLJI_"
      }
    },
    {
      "cell_type": "code",
      "metadata": {
        "id": "rdYiIjxIJedW"
      },
      "source": [
        "ann_model = Sequential()\n",
        "\n",
        "ann_model.add(Dense(units=46,activation='gelu'))\n",
        "ann_model.add(Dropout(0.1))\n",
        "ann_model.add(Dense(units=23,activation='gelu'))\n",
        "ann_model.add(Dropout(0.2))\n",
        "ann_model.add(Dense(units=11,activation='gelu'))\n",
        "ann_model.add(Dropout(0.3))\n",
        "ann_model.add(Dense(units=3,activation='softmax'))\n",
        "\n",
        "model = Sequential([ann_model])\n",
        "model.compile(loss='binary_crossentropy', optimizer=Adam(learning_rate = 0.001))"
      ],
      "execution_count": 33,
      "outputs": []
    },
    {
      "cell_type": "markdown",
      "metadata": {
        "id": "s27juaT0hRK6"
      },
      "source": [
        "# TRAIN MODEL"
      ]
    },
    {
      "cell_type": "markdown",
      "source": [
        "Look here for detail about EarlyStopping https://www.tensorflow.org/api_docs/python/tf/keras/callbacks/EarlyStopping"
      ],
      "metadata": {
        "id": "bh0LZQTHJryk"
      }
    },
    {
      "cell_type": "code",
      "metadata": {
        "id": "dlSLsNw-dmsS"
      },
      "source": [
        "epochs = 200\n",
        "# batch_size = 50\n",
        "batch_size = int(X_train.shape[0]/100)\n",
        "early_stop = EarlyStopping(monitor='val_loss',patience=10)"
      ],
      "execution_count": 34,
      "outputs": []
    },
    {
      "cell_type": "code",
      "metadata": {
        "colab": {
          "base_uri": "https://localhost:8080/"
        },
        "id": "__lGjjs3J0Hv",
        "outputId": "42b3951b-fae4-4710-91da-f789cbfe7bfe"
      },
      "source": [
        "model.fit(x=X_train, \n",
        "          y=y_train, \n",
        "          epochs=epochs,\n",
        "          batch_size=batch_size,\n",
        "          validation_data=(X_test, y_test) ,\n",
        "          verbose=1 ,\n",
        "          callbacks=[early_stop]\n",
        "          )"
      ],
      "execution_count": 35,
      "outputs": [
        {
          "output_type": "stream",
          "name": "stdout",
          "text": [
            "Epoch 1/200\n",
            "102/102 [==============================] - 2s 5ms/step - loss: 0.6160 - val_loss: 0.5749\n",
            "Epoch 2/200\n",
            "102/102 [==============================] - 0s 3ms/step - loss: 0.5799 - val_loss: 0.5624\n",
            "Epoch 3/200\n",
            "102/102 [==============================] - 0s 3ms/step - loss: 0.5740 - val_loss: 0.5610\n",
            "Epoch 4/200\n",
            "102/102 [==============================] - 0s 3ms/step - loss: 0.5708 - val_loss: 0.5573\n",
            "Epoch 5/200\n",
            "102/102 [==============================] - 0s 3ms/step - loss: 0.5679 - val_loss: 0.5539\n",
            "Epoch 6/200\n",
            "102/102 [==============================] - 0s 3ms/step - loss: 0.5602 - val_loss: 0.5411\n",
            "Epoch 7/200\n",
            "102/102 [==============================] - 0s 3ms/step - loss: 0.5419 - val_loss: 0.5028\n",
            "Epoch 8/200\n",
            "102/102 [==============================] - 0s 3ms/step - loss: 0.5024 - val_loss: 0.4434\n",
            "Epoch 9/200\n",
            "102/102 [==============================] - 0s 3ms/step - loss: 0.4609 - val_loss: 0.4042\n",
            "Epoch 10/200\n",
            "102/102 [==============================] - 0s 3ms/step - loss: 0.4361 - val_loss: 0.3852\n",
            "Epoch 11/200\n",
            "102/102 [==============================] - 0s 3ms/step - loss: 0.4205 - val_loss: 0.3732\n",
            "Epoch 12/200\n",
            "102/102 [==============================] - 0s 3ms/step - loss: 0.4051 - val_loss: 0.3615\n",
            "Epoch 13/200\n",
            "102/102 [==============================] - 0s 3ms/step - loss: 0.4046 - val_loss: 0.3594\n",
            "Epoch 14/200\n",
            "102/102 [==============================] - 0s 3ms/step - loss: 0.3933 - val_loss: 0.3535\n",
            "Epoch 15/200\n",
            "102/102 [==============================] - 0s 3ms/step - loss: 0.3876 - val_loss: 0.3512\n",
            "Epoch 16/200\n",
            "102/102 [==============================] - 0s 3ms/step - loss: 0.3864 - val_loss: 0.3464\n",
            "Epoch 17/200\n",
            "102/102 [==============================] - 0s 3ms/step - loss: 0.3790 - val_loss: 0.3423\n",
            "Epoch 18/200\n",
            "102/102 [==============================] - 0s 3ms/step - loss: 0.3769 - val_loss: 0.3483\n",
            "Epoch 19/200\n",
            "102/102 [==============================] - 0s 3ms/step - loss: 0.3761 - val_loss: 0.3388\n",
            "Epoch 20/200\n",
            "102/102 [==============================] - 0s 3ms/step - loss: 0.3687 - val_loss: 0.3373\n",
            "Epoch 21/200\n",
            "102/102 [==============================] - 0s 3ms/step - loss: 0.3658 - val_loss: 0.3368\n",
            "Epoch 22/200\n",
            "102/102 [==============================] - 0s 3ms/step - loss: 0.3618 - val_loss: 0.3295\n",
            "Epoch 23/200\n",
            "102/102 [==============================] - 0s 3ms/step - loss: 0.3623 - val_loss: 0.3296\n",
            "Epoch 24/200\n",
            "102/102 [==============================] - 0s 3ms/step - loss: 0.3602 - val_loss: 0.3278\n",
            "Epoch 25/200\n",
            "102/102 [==============================] - 0s 3ms/step - loss: 0.3589 - val_loss: 0.3233\n",
            "Epoch 26/200\n",
            "102/102 [==============================] - 0s 3ms/step - loss: 0.3530 - val_loss: 0.3210\n",
            "Epoch 27/200\n",
            "102/102 [==============================] - 0s 3ms/step - loss: 0.3499 - val_loss: 0.3204\n",
            "Epoch 28/200\n",
            "102/102 [==============================] - 0s 3ms/step - loss: 0.3495 - val_loss: 0.3244\n",
            "Epoch 29/200\n",
            "102/102 [==============================] - 0s 3ms/step - loss: 0.3486 - val_loss: 0.3151\n",
            "Epoch 30/200\n",
            "102/102 [==============================] - 0s 3ms/step - loss: 0.3420 - val_loss: 0.3151\n",
            "Epoch 31/200\n",
            "102/102 [==============================] - 0s 3ms/step - loss: 0.3464 - val_loss: 0.3136\n",
            "Epoch 32/200\n",
            "102/102 [==============================] - 0s 3ms/step - loss: 0.3417 - val_loss: 0.3122\n",
            "Epoch 33/200\n",
            "102/102 [==============================] - 0s 3ms/step - loss: 0.3396 - val_loss: 0.3115\n",
            "Epoch 34/200\n",
            "102/102 [==============================] - 0s 3ms/step - loss: 0.3414 - val_loss: 0.3129\n",
            "Epoch 35/200\n",
            "102/102 [==============================] - 0s 3ms/step - loss: 0.3340 - val_loss: 0.3033\n",
            "Epoch 36/200\n",
            "102/102 [==============================] - 0s 3ms/step - loss: 0.3317 - val_loss: 0.3041\n",
            "Epoch 37/200\n",
            "102/102 [==============================] - 0s 3ms/step - loss: 0.3300 - val_loss: 0.2994\n",
            "Epoch 38/200\n",
            "102/102 [==============================] - 0s 3ms/step - loss: 0.3308 - val_loss: 0.3016\n",
            "Epoch 39/200\n",
            "102/102 [==============================] - 0s 3ms/step - loss: 0.3276 - val_loss: 0.2982\n",
            "Epoch 40/200\n",
            "102/102 [==============================] - 0s 3ms/step - loss: 0.3334 - val_loss: 0.2969\n",
            "Epoch 41/200\n",
            "102/102 [==============================] - 0s 3ms/step - loss: 0.3304 - val_loss: 0.2966\n",
            "Epoch 42/200\n",
            "102/102 [==============================] - 0s 3ms/step - loss: 0.3224 - val_loss: 0.2961\n",
            "Epoch 43/200\n",
            "102/102 [==============================] - 0s 3ms/step - loss: 0.3287 - val_loss: 0.3005\n",
            "Epoch 44/200\n",
            "102/102 [==============================] - 0s 3ms/step - loss: 0.3251 - val_loss: 0.2948\n",
            "Epoch 45/200\n",
            "102/102 [==============================] - 0s 3ms/step - loss: 0.3233 - val_loss: 0.2954\n",
            "Epoch 46/200\n",
            "102/102 [==============================] - 0s 3ms/step - loss: 0.3220 - val_loss: 0.2942\n",
            "Epoch 47/200\n",
            "102/102 [==============================] - 0s 3ms/step - loss: 0.3267 - val_loss: 0.2970\n",
            "Epoch 48/200\n",
            "102/102 [==============================] - 0s 3ms/step - loss: 0.3225 - val_loss: 0.2919\n",
            "Epoch 49/200\n",
            "102/102 [==============================] - 0s 3ms/step - loss: 0.3213 - val_loss: 0.2943\n",
            "Epoch 50/200\n",
            "102/102 [==============================] - 0s 3ms/step - loss: 0.3220 - val_loss: 0.2917\n",
            "Epoch 51/200\n",
            "102/102 [==============================] - 0s 3ms/step - loss: 0.3176 - val_loss: 0.2913\n",
            "Epoch 52/200\n",
            "102/102 [==============================] - 0s 3ms/step - loss: 0.3202 - val_loss: 0.2917\n",
            "Epoch 53/200\n",
            "102/102 [==============================] - 0s 3ms/step - loss: 0.3186 - val_loss: 0.2980\n",
            "Epoch 54/200\n",
            "102/102 [==============================] - 0s 3ms/step - loss: 0.3157 - val_loss: 0.2919\n",
            "Epoch 55/200\n",
            "102/102 [==============================] - 0s 3ms/step - loss: 0.3151 - val_loss: 0.2908\n",
            "Epoch 56/200\n",
            "102/102 [==============================] - 0s 3ms/step - loss: 0.3130 - val_loss: 0.2895\n",
            "Epoch 57/200\n",
            "102/102 [==============================] - 0s 3ms/step - loss: 0.3150 - val_loss: 0.2926\n",
            "Epoch 58/200\n",
            "102/102 [==============================] - 0s 3ms/step - loss: 0.3166 - val_loss: 0.2918\n",
            "Epoch 59/200\n",
            "102/102 [==============================] - 0s 3ms/step - loss: 0.3183 - val_loss: 0.2881\n",
            "Epoch 60/200\n",
            "102/102 [==============================] - 0s 3ms/step - loss: 0.3138 - val_loss: 0.2909\n",
            "Epoch 61/200\n",
            "102/102 [==============================] - 0s 3ms/step - loss: 0.3152 - val_loss: 0.2914\n",
            "Epoch 62/200\n",
            "102/102 [==============================] - 0s 3ms/step - loss: 0.3174 - val_loss: 0.2961\n",
            "Epoch 63/200\n",
            "102/102 [==============================] - 0s 4ms/step - loss: 0.3161 - val_loss: 0.2873\n",
            "Epoch 64/200\n",
            "102/102 [==============================] - 0s 3ms/step - loss: 0.3151 - val_loss: 0.2873\n",
            "Epoch 65/200\n",
            "102/102 [==============================] - 0s 3ms/step - loss: 0.3095 - val_loss: 0.2854\n",
            "Epoch 66/200\n",
            "102/102 [==============================] - 0s 3ms/step - loss: 0.3141 - val_loss: 0.2880\n",
            "Epoch 67/200\n",
            "102/102 [==============================] - 0s 3ms/step - loss: 0.3148 - val_loss: 0.2873\n",
            "Epoch 68/200\n",
            "102/102 [==============================] - 0s 3ms/step - loss: 0.3115 - val_loss: 0.2902\n",
            "Epoch 69/200\n",
            "102/102 [==============================] - 0s 3ms/step - loss: 0.3082 - val_loss: 0.2868\n",
            "Epoch 70/200\n",
            "102/102 [==============================] - 0s 3ms/step - loss: 0.3112 - val_loss: 0.2929\n",
            "Epoch 71/200\n",
            "102/102 [==============================] - 0s 3ms/step - loss: 0.3089 - val_loss: 0.2965\n",
            "Epoch 72/200\n",
            "102/102 [==============================] - 0s 3ms/step - loss: 0.3120 - val_loss: 0.2853\n",
            "Epoch 73/200\n",
            "102/102 [==============================] - 0s 3ms/step - loss: 0.3100 - val_loss: 0.2851\n",
            "Epoch 74/200\n",
            "102/102 [==============================] - 0s 3ms/step - loss: 0.3099 - val_loss: 0.2914\n",
            "Epoch 75/200\n",
            "102/102 [==============================] - 0s 3ms/step - loss: 0.3106 - val_loss: 0.2890\n",
            "Epoch 76/200\n",
            "102/102 [==============================] - 0s 4ms/step - loss: 0.3113 - val_loss: 0.2877\n",
            "Epoch 77/200\n",
            "102/102 [==============================] - 1s 10ms/step - loss: 0.3079 - val_loss: 0.2855\n",
            "Epoch 78/200\n",
            "102/102 [==============================] - 1s 5ms/step - loss: 0.3052 - val_loss: 0.2864\n",
            "Epoch 79/200\n",
            "102/102 [==============================] - 1s 7ms/step - loss: 0.3050 - val_loss: 0.2898\n",
            "Epoch 80/200\n",
            "102/102 [==============================] - 1s 8ms/step - loss: 0.3076 - val_loss: 0.2885\n",
            "Epoch 81/200\n",
            "102/102 [==============================] - 0s 5ms/step - loss: 0.3096 - val_loss: 0.2845\n",
            "Epoch 82/200\n",
            "102/102 [==============================] - 1s 8ms/step - loss: 0.3071 - val_loss: 0.2851\n",
            "Epoch 83/200\n",
            "102/102 [==============================] - 1s 9ms/step - loss: 0.3061 - val_loss: 0.2853\n",
            "Epoch 84/200\n",
            "102/102 [==============================] - 0s 3ms/step - loss: 0.3023 - val_loss: 0.2856\n",
            "Epoch 85/200\n",
            "102/102 [==============================] - 0s 3ms/step - loss: 0.3071 - val_loss: 0.2854\n",
            "Epoch 86/200\n",
            "102/102 [==============================] - 0s 3ms/step - loss: 0.3103 - val_loss: 0.2820\n",
            "Epoch 87/200\n",
            "102/102 [==============================] - 0s 3ms/step - loss: 0.3032 - val_loss: 0.2833\n",
            "Epoch 88/200\n",
            "102/102 [==============================] - 0s 3ms/step - loss: 0.3057 - val_loss: 0.2838\n",
            "Epoch 89/200\n",
            "102/102 [==============================] - 0s 3ms/step - loss: 0.3039 - val_loss: 0.2858\n",
            "Epoch 90/200\n",
            "102/102 [==============================] - 0s 3ms/step - loss: 0.3027 - val_loss: 0.2852\n",
            "Epoch 91/200\n",
            "102/102 [==============================] - 0s 3ms/step - loss: 0.3044 - val_loss: 0.2831\n",
            "Epoch 92/200\n",
            "102/102 [==============================] - 0s 4ms/step - loss: 0.3017 - val_loss: 0.2852\n",
            "Epoch 93/200\n",
            "102/102 [==============================] - 0s 4ms/step - loss: 0.3011 - val_loss: 0.2844\n",
            "Epoch 94/200\n",
            "102/102 [==============================] - 0s 3ms/step - loss: 0.3063 - val_loss: 0.2817\n",
            "Epoch 95/200\n",
            "102/102 [==============================] - 0s 3ms/step - loss: 0.3040 - val_loss: 0.2817\n",
            "Epoch 96/200\n",
            "102/102 [==============================] - 0s 3ms/step - loss: 0.3048 - val_loss: 0.2832\n",
            "Epoch 97/200\n",
            "102/102 [==============================] - 0s 3ms/step - loss: 0.3001 - val_loss: 0.2817\n",
            "Epoch 98/200\n",
            "102/102 [==============================] - 0s 3ms/step - loss: 0.3013 - val_loss: 0.2839\n",
            "Epoch 99/200\n",
            "102/102 [==============================] - 0s 3ms/step - loss: 0.3001 - val_loss: 0.2837\n",
            "Epoch 100/200\n",
            "102/102 [==============================] - 0s 3ms/step - loss: 0.3016 - val_loss: 0.2844\n",
            "Epoch 101/200\n",
            "102/102 [==============================] - 0s 3ms/step - loss: 0.3006 - val_loss: 0.2836\n",
            "Epoch 102/200\n",
            "102/102 [==============================] - 0s 3ms/step - loss: 0.3034 - val_loss: 0.2905\n",
            "Epoch 103/200\n",
            "102/102 [==============================] - 0s 3ms/step - loss: 0.3049 - val_loss: 0.2817\n",
            "Epoch 104/200\n",
            "102/102 [==============================] - 0s 3ms/step - loss: 0.3016 - val_loss: 0.2814\n",
            "Epoch 105/200\n",
            "102/102 [==============================] - 0s 3ms/step - loss: 0.2958 - val_loss: 0.2827\n",
            "Epoch 106/200\n",
            "102/102 [==============================] - 0s 3ms/step - loss: 0.2990 - val_loss: 0.2837\n",
            "Epoch 107/200\n",
            "102/102 [==============================] - 0s 3ms/step - loss: 0.2975 - val_loss: 0.2821\n",
            "Epoch 108/200\n",
            "102/102 [==============================] - 0s 3ms/step - loss: 0.2973 - val_loss: 0.2792\n",
            "Epoch 109/200\n",
            "102/102 [==============================] - 0s 3ms/step - loss: 0.2946 - val_loss: 0.2819\n",
            "Epoch 110/200\n",
            "102/102 [==============================] - 0s 3ms/step - loss: 0.2965 - val_loss: 0.2836\n",
            "Epoch 111/200\n",
            "102/102 [==============================] - 0s 3ms/step - loss: 0.3003 - val_loss: 0.2919\n",
            "Epoch 112/200\n",
            "102/102 [==============================] - 0s 3ms/step - loss: 0.3015 - val_loss: 0.2836\n",
            "Epoch 113/200\n",
            "102/102 [==============================] - 0s 3ms/step - loss: 0.3000 - val_loss: 0.2821\n",
            "Epoch 114/200\n",
            "102/102 [==============================] - 0s 3ms/step - loss: 0.2989 - val_loss: 0.2824\n",
            "Epoch 115/200\n",
            "102/102 [==============================] - 0s 3ms/step - loss: 0.2967 - val_loss: 0.2797\n",
            "Epoch 116/200\n",
            "102/102 [==============================] - 0s 3ms/step - loss: 0.2968 - val_loss: 0.2801\n",
            "Epoch 117/200\n",
            "102/102 [==============================] - 0s 4ms/step - loss: 0.2959 - val_loss: 0.2822\n",
            "Epoch 118/200\n",
            "102/102 [==============================] - 0s 3ms/step - loss: 0.2950 - val_loss: 0.2805\n"
          ]
        },
        {
          "output_type": "execute_result",
          "data": {
            "text/plain": [
              "<keras.callbacks.History at 0x7ff231d8ef90>"
            ]
          },
          "metadata": {},
          "execution_count": 35
        }
      ]
    },
    {
      "cell_type": "markdown",
      "source": [
        "# MODEL EVALUATION"
      ],
      "metadata": {
        "id": "DOPXkaHNpJpR"
      }
    },
    {
      "cell_type": "code",
      "metadata": {
        "id": "D62CX9hCJ3u4"
      },
      "source": [
        "model_loss = pd.DataFrame(model.history.history)"
      ],
      "execution_count": 36,
      "outputs": []
    },
    {
      "cell_type": "code",
      "metadata": {
        "colab": {
          "base_uri": "https://localhost:8080/",
          "height": 283
        },
        "id": "mRGp7tieJ6Yr",
        "outputId": "341c391a-89c0-4b19-d8ec-7945d92a777f"
      },
      "source": [
        "model_loss.plot()"
      ],
      "execution_count": 37,
      "outputs": [
        {
          "output_type": "execute_result",
          "data": {
            "text/plain": [
              "<matplotlib.axes._subplots.AxesSubplot at 0x7ff231f99c50>"
            ]
          },
          "metadata": {},
          "execution_count": 37
        },
        {
          "output_type": "display_data",
          "data": {
            "image/png": "[encoded data removed]",
            "text/plain": [
              "<Figure size 432x288 with 1 Axes>"
            ]
          },
          "metadata": {
            "needs_background": "light"
          }
        }
      ]
    },
    {
      "cell_type": "code",
      "metadata": {
        "id": "Fw9EZzPLLwtD"
      },
      "source": [
        "predictions = (model.predict(X_test) > 0.5).astype(\"int32\")"
      ],
      "execution_count": 38,
      "outputs": []
    },
    {
      "cell_type": "code",
      "metadata": {
        "id": "GHn5-TulhDoh"
      },
      "source": [
        "predictions2 = (model.predict(X_train) > 0.5).astype(\"int32\")"
      ],
      "execution_count": 39,
      "outputs": []
    },
    {
      "cell_type": "code",
      "source": [
        "accuracy_score(y_train,predictions2)"
      ],
      "metadata": {
        "colab": {
          "base_uri": "https://localhost:8080/"
        },
        "id": "u8-O-0lpPDFR",
        "outputId": "56b8d5c1-f33a-4294-f9e5-4813a926cdac"
      },
      "execution_count": 40,
      "outputs": [
        {
          "output_type": "execute_result",
          "data": {
            "text/plain": [
              "0.8338542317789723"
            ]
          },
          "metadata": {},
          "execution_count": 40
        }
      ]
    },
    {
      "cell_type": "code",
      "source": [
        "accuracy_score(y_test,predictions)"
      ],
      "metadata": {
        "colab": {
          "base_uri": "https://localhost:8080/"
        },
        "id": "XfbJBVDTnuZv",
        "outputId": "c92f13cf-67d4-44e2-f1be-bec7aa7762b5"
      },
      "execution_count": 41,
      "outputs": [
        {
          "output_type": "execute_result",
          "data": {
            "text/plain": [
              "0.817"
            ]
          },
          "metadata": {},
          "execution_count": 41
        }
      ]
    },
    {
      "cell_type": "code",
      "metadata": {
        "colab": {
          "base_uri": "https://localhost:8080/"
        },
        "id": "ifNtjC7RhGAb",
        "outputId": "6651a63e-8ecb-4c8d-d392-e56a962d3bcf"
      },
      "source": [
        "print(classification_report(y_train,predictions2))"
      ],
      "execution_count": 42,
      "outputs": [
        {
          "output_type": "stream",
          "name": "stdout",
          "text": [
            "              precision    recall  f1-score   support\n",
            "\n",
            "           0       0.80      0.76      0.78      1262\n",
            "           1       0.85      0.74      0.79      2078\n",
            "           2       0.84      0.89      0.86      4659\n",
            "\n",
            "   micro avg       0.83      0.83      0.83      7999\n",
            "   macro avg       0.83      0.80      0.81      7999\n",
            "weighted avg       0.83      0.83      0.83      7999\n",
            " samples avg       0.83      0.83      0.83      7999\n",
            "\n"
          ]
        },
        {
          "output_type": "stream",
          "name": "stderr",
          "text": [
            "/usr/local/lib/python3.7/dist-packages/sklearn/metrics/_classification.py:1318: UndefinedMetricWarning: Precision and F-score are ill-defined and being set to 0.0 in samples with no predicted labels. Use `zero_division` parameter to control this behavior.\n",
            "  _warn_prf(average, modifier, msg_start, len(result))\n"
          ]
        }
      ]
    },
    {
      "cell_type": "code",
      "metadata": {
        "colab": {
          "base_uri": "https://localhost:8080/"
        },
        "id": "MASOgXs1LaTU",
        "outputId": "d37fec95-8191-4b85-83f0-8136c69fca71"
      },
      "source": [
        "print(classification_report(y_test,predictions))"
      ],
      "execution_count": 43,
      "outputs": [
        {
          "output_type": "stream",
          "name": "stdout",
          "text": [
            "              precision    recall  f1-score   support\n",
            "\n",
            "           0       0.76      0.71      0.74       325\n",
            "           1       0.85      0.71      0.77       486\n",
            "           2       0.82      0.89      0.85      1189\n",
            "\n",
            "   micro avg       0.82      0.82      0.82      2000\n",
            "   macro avg       0.81      0.77      0.79      2000\n",
            "weighted avg       0.82      0.82      0.82      2000\n",
            " samples avg       0.82      0.82      0.82      2000\n",
            "\n"
          ]
        },
        {
          "output_type": "stream",
          "name": "stderr",
          "text": [
            "/usr/local/lib/python3.7/dist-packages/sklearn/metrics/_classification.py:1318: UndefinedMetricWarning: Precision and F-score are ill-defined and being set to 0.0 in samples with no predicted labels. Use `zero_division` parameter to control this behavior.\n",
            "  _warn_prf(average, modifier, msg_start, len(result))\n"
          ]
        }
      ]
    },
    {
      "cell_type": "code",
      "metadata": {
        "colab": {
          "base_uri": "https://localhost:8080/"
        },
        "id": "wNjPuinBP1L2",
        "outputId": "0ebb84a3-71f5-4cb3-fce4-f73fac5405ee"
      },
      "source": [
        "print(df[df[\"BUY\"]==1].shape[0]*0.2)\n",
        "print(df[df[\"SELL\"]==1].shape[0]*0.2)\n",
        "print(df[df[\"NOTHING\"]==1].shape[0]*0.2)"
      ],
      "execution_count": 44,
      "outputs": [
        {
          "output_type": "stream",
          "name": "stdout",
          "text": [
            "317.40000000000003\n",
            "512.8000000000001\n",
            "1169.6000000000001\n"
          ]
        }
      ]
    },
    {
      "cell_type": "code",
      "metadata": {
        "id": "hSZ5t1B9Yj1N"
      },
      "source": [
        "# TN FP\n",
        "# FN TP"
      ],
      "execution_count": 45,
      "outputs": []
    },
    {
      "cell_type": "code",
      "metadata": {
        "colab": {
          "base_uri": "https://localhost:8080/"
        },
        "id": "Guqu_9uDMOCr",
        "outputId": "6606f55c-3333-4d25-b2c9-a02123ca5480"
      },
      "source": [
        "print(multilabel_confusion_matrix(y_test,predictions))"
      ],
      "execution_count": 46,
      "outputs": [
        {
          "output_type": "stream",
          "name": "stdout",
          "text": [
            "[[[1602   73]\n",
            "  [  93  232]]\n",
            "\n",
            " [[1453   61]\n",
            "  [ 140  346]]\n",
            "\n",
            " [[ 580  231]\n",
            "  [ 133 1056]]]\n"
          ]
        }
      ]
    },
    {
      "cell_type": "markdown",
      "metadata": {
        "id": "I1z-KICcQIlx"
      },
      "source": [
        "# TRAIN WITH ALL DATA"
      ]
    },
    {
      "cell_type": "code",
      "metadata": {
        "id": "469ckM9TQKeh"
      },
      "source": [
        "# model.fit(x=X, \n",
        "#           y=y, \n",
        "#           epochs=80,\n",
        "#           batch_size=batch_size,\n",
        "#           validation_data=(X_test, y_test) ,\n",
        "#           verbose=1 ,\n",
        "#           callbacks=[early_stop]\n",
        "#           )"
      ],
      "execution_count": 47,
      "outputs": []
    },
    {
      "cell_type": "markdown",
      "metadata": {
        "id": "7-rZ4QlzHW2o"
      },
      "source": [
        "# SAVE"
      ]
    },
    {
      "cell_type": "code",
      "metadata": {
        "id": "hWYEtoFZHmh1"
      },
      "source": [
        "from tensorflow.keras.models import save_model "
      ],
      "execution_count": 48,
      "outputs": []
    },
    {
      "cell_type": "code",
      "metadata": {
        "id": "emitS9NJHWIw"
      },
      "source": [
        "save_model(model,\"/content/drive/MyDrive/StockML/stockml2\", save_format = \"h5\")"
      ],
      "execution_count": 49,
      "outputs": []
    },
    {
      "cell_type": "code",
      "metadata": {
        "id": "lGASJFruQ8ms"
      },
      "source": [
        "model.save_weights('/content/drive/MyDrive/StockML/stockml_ckpt2')"
      ],
      "execution_count": 50,
      "outputs": []
    },
    {
      "cell_type": "markdown",
      "metadata": {
        "id": "-I7SuDO3IfLX"
      },
      "source": [
        "# LOAD"
      ]
    },
    {
      "cell_type": "code",
      "metadata": {
        "id": "CbLKKzyTI5W4"
      },
      "source": [
        "from tensorflow.keras.models import load_model"
      ],
      "execution_count": 51,
      "outputs": []
    },
    {
      "cell_type": "code",
      "metadata": {
        "id": "le5fmhhoIgBa"
      },
      "source": [
        "model = load_model(\"/content/drive/MyDrive/StockML/stockml2\")"
      ],
      "execution_count": 52,
      "outputs": []
    },
    {
      "cell_type": "code",
      "metadata": {
        "id": "-M6lUih4Ql9t",
        "outputId": "8d658102-092c-44e9-b06b-57a043bceebf",
        "colab": {
          "base_uri": "https://localhost:8080/"
        }
      },
      "source": [
        "model.load_weights('/content/drive/MyDrive/StockML/stockml_ckpt2')"
      ],
      "execution_count": 53,
      "outputs": [
        {
          "output_type": "execute_result",
          "data": {
            "text/plain": [
              "<tensorflow.python.training.tracking.util.CheckpointLoadStatus at 0x7ff232ed9a90>"
            ]
          },
          "metadata": {},
          "execution_count": 53
        }
      ]
    },
    {
      "cell_type": "code",
      "metadata": {
        "colab": {
          "base_uri": "https://localhost:8080/"
        },
        "id": "8mJm0feZji8b",
        "outputId": "823a22d4-26da-424f-d28f-94670cc9da85"
      },
      "source": [
        "model.summary()"
      ],
      "execution_count": 54,
      "outputs": [
        {
          "output_type": "stream",
          "name": "stdout",
          "text": [
            "Model: \"sequential_1\"\n",
            "_________________________________________________________________\n",
            " Layer (type)                Output Shape              Param #   \n",
            "=================================================================\n",
            " sequential (Sequential)     (None, 3)                 3543      \n",
            "                                                                 \n",
            "=================================================================\n",
            "Total params: 3,543\n",
            "Trainable params: 3,543\n",
            "Non-trainable params: 0\n",
            "_________________________________________________________________\n"
          ]
        }
      ]
    },
    {
      "cell_type": "markdown",
      "metadata": {
        "id": "9GssFdRQU_zp"
      },
      "source": [
        "# BATCH PREDICT"
      ]
    },
    {
      "cell_type": "code",
      "metadata": {
        "id": "Mh7ghYbFU_d4",
        "colab": {
          "base_uri": "https://localhost:8080/"
        },
        "outputId": "642ccaf5-280d-4436-9c47-695fa72578ef"
      },
      "source": [
        "companies = [\"BULL.JK\", \"BUKK.JK\", \"PTBA.JK\", \"SIDO.JK\", \"EAST.JK\", \"GGRP.JK\", \"PTRO.JK\", \"SILO.JK\", \n",
        "             \"INOV.JK\", \"BKSL.JK\", \"CFIN.JK\", \"PRIM.JK\", \"BBCA.JK\",\"ADMF.JK\", \"BTPS.JK\", \"HRME.JK\",\n",
        "             \"EPMT.JK\", \"ASII.JK\"]\n",
        "today = datetime.now().date()\n",
        "\n",
        "def get_sector(stock_code):\n",
        "  return df_sector[df_sector['code']==stock_code].drop(\"code\",axis=1).values.tolist()[0]\n",
        "  \n",
        "for company in companies:\n",
        "  try:\n",
        "    df2 = si.get_data(company , start_date = today-timedelta(days = 50) , end_date = today)\n",
        "    df2 = df2.reset_index()\n",
        "    df2=df2.rename(columns = {'index':'Date'})\n",
        "\n",
        "    df3 = df2[[\"Date\",\"adjclose\"]].iloc[-30:]\n",
        "    x = df3[\"adjclose\"].values\n",
        "    y = []\n",
        "    for i,j in enumerate(x):\n",
        "      if i == 0:\n",
        "          y.append(0)\n",
        "      else:\n",
        "          y.append((j-x[i-1])/x[i-1])\n",
        "\n",
        "    # avg30 = sum(y)/len(y)\n",
        "    max30 = max(y)\n",
        "    min30 = min(y)\n",
        "    mean7 = sum(y[-7:])/len(y[-7:])\n",
        "    std7 = np.std(y[-7:])\n",
        "    y.append(pd.to_datetime(today, format='%Y-%m-%d').month)\n",
        "    # y.append(pd.to_datetime(today, format='%Y-%m-%d').quarter)\n",
        "    # y.append(avg30)\n",
        "    y.append(max30)\n",
        "    y.append(min30)\n",
        "    y.append(mean7)\n",
        "    y.append(std7)\n",
        "    for i in get_sector(company):\n",
        "      y.append(i)\n",
        "    sample = np.array(y)\n",
        "    sample = np.reshape(sample, (1,46))\n",
        "    predictions = (model.predict(sample) > 0.5).astype(\"int32\")\n",
        "    print(company, \": \", predictions)\n",
        "  except Exception as e:\n",
        "    print(e)\n",
        "    print(\"failed to get data for \", company)"
      ],
      "execution_count": 55,
      "outputs": [
        {
          "output_type": "stream",
          "name": "stdout",
          "text": [
            "BULL.JK :  [[0 0 1]]\n",
            "BUKK.JK :  [[0 0 1]]\n",
            "PTBA.JK :  [[0 0 1]]\n",
            "SIDO.JK :  [[0 0 1]]\n",
            "EAST.JK :  [[0 1 0]]\n",
            "GGRP.JK :  [[0 0 1]]\n",
            "PTRO.JK :  [[0 0 1]]\n",
            "SILO.JK :  [[0 0 1]]\n",
            "INOV.JK :  [[0 0 1]]\n",
            "BKSL.JK :  [[0 1 0]]\n",
            "CFIN.JK :  [[0 1 0]]\n",
            "PRIM.JK :  [[0 0 1]]\n",
            "BBCA.JK :  [[0 0 1]]\n",
            "ADMF.JK :  [[0 1 0]]\n",
            "BTPS.JK :  [[0 1 0]]\n",
            "HRME.JK :  [[0 0 1]]\n",
            "EPMT.JK :  [[0 0 1]]\n",
            "ASII.JK :  [[0 0 1]]\n"
          ]
        }
      ]
    },
    {
      "cell_type": "code",
      "source": [
        "# Get one point of data\n",
        "today = datetime.now().date()\n",
        "company = \"INCO.JK\"\n",
        "df2 = si.get_data(company , start_date = today-timedelta(days = 50) , end_date = today)\n",
        "df2 = df2.reset_index()\n",
        "df2=df2.rename(columns = {'index':'Date'})\n",
        "\n",
        "df3 = df2[[\"Date\",\"adjclose\"]].iloc[-31:]\n",
        "x = df3[\"adjclose\"].values\n",
        "y = []\n",
        "for i,j in enumerate(x):\n",
        "  if i == 0:\n",
        "      y.append(0)\n",
        "  else:\n",
        "      y.append(round((j-x[i-1])/x[i-1], 5))\n",
        "print(company)\n",
        "print(df3.tail(1)['Date'])\n",
        "y"
      ],
      "metadata": {
        "colab": {
          "base_uri": "https://localhost:8080/"
        },
        "id": "Z90A1A3sTo97",
        "outputId": "f58b8ec6-6fcf-46f6-c137-16d77de5700a"
      },
      "execution_count": 56,
      "outputs": [
        {
          "output_type": "stream",
          "name": "stdout",
          "text": [
            "INCO.JK\n",
            "33   2022-02-10\n",
            "Name: Date, dtype: datetime64[ns]\n"
          ]
        },
        {
          "output_type": "execute_result",
          "data": {
            "text/plain": [
              "[0,\n",
              " -0.01274,\n",
              " 0.00645,\n",
              " 0.01709,\n",
              " -0.02311,\n",
              " -0.0086,\n",
              " -0.01085,\n",
              " -0.01096,\n",
              " 0.0,\n",
              " -0.05765,\n",
              " 0.03059,\n",
              " 0.08676,\n",
              " 0.0021,\n",
              " -0.02306,\n",
              " 0.01288,\n",
              " 0.03602,\n",
              " 0.02249,\n",
              " 0.005,\n",
              " -0.00697,\n",
              " -0.02806,\n",
              " -0.00412,\n",
              " -0.01863,\n",
              " -0.00844,\n",
              " 0.00213,\n",
              " 0.00425,\n",
              " -0.00634,\n",
              " 0.00638,\n",
              " -0.00423,\n",
              " -0.01274,\n",
              " 0.00215,\n",
              " 0.03004]"
            ]
          },
          "metadata": {},
          "execution_count": 56
        }
      ]
    }
  ]
}